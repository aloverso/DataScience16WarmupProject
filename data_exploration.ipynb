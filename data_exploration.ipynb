{
 "cells": [
  {
   "cell_type": "code",
   "execution_count": 2,
   "metadata": {
    "collapsed": false
   },
   "outputs": [
    {
     "name": "stdout",
     "output_type": "stream",
     "text": [
      "   PassengerId  Survived  Pclass  \\\n",
      "0            1         0       3   \n",
      "1            2         1       1   \n",
      "2            3         1       3   \n",
      "3            4         1       1   \n",
      "4            5         0       3   \n",
      "\n",
      "                                                Name     Sex  Age  SibSp  \\\n",
      "0                            Braund, Mr. Owen Harris    male   22      1   \n",
      "1  Cumings, Mrs. John Bradley (Florence Briggs Th...  female   38      1   \n",
      "2                             Heikkinen, Miss. Laina  female   26      0   \n",
      "3       Futrelle, Mrs. Jacques Heath (Lily May Peel)  female   35      1   \n",
      "4                           Allen, Mr. William Henry    male   35      0   \n",
      "\n",
      "   Parch            Ticket     Fare Cabin Embarked  \n",
      "0      0         A/5 21171   7.2500   NaN        S  \n",
      "1      0          PC 17599  71.2833   C85        C  \n",
      "2      0  STON/O2. 3101282   7.9250   NaN        S  \n",
      "3      0            113803  53.1000  C123        S  \n",
      "4      0            373450   8.0500   NaN        S  \n",
      "       PassengerId    Survived      Pclass         Age       SibSp  \\\n",
      "count   891.000000  891.000000  891.000000  714.000000  891.000000   \n",
      "mean    446.000000    0.383838    2.308642   29.699118    0.523008   \n",
      "std     257.353842    0.486592    0.836071   14.526497    1.102743   \n",
      "min       1.000000    0.000000    1.000000    0.420000    0.000000   \n",
      "25%     223.500000    0.000000    2.000000   20.125000    0.000000   \n",
      "50%     446.000000    0.000000    3.000000   28.000000    0.000000   \n",
      "75%     668.500000    1.000000    3.000000   38.000000    1.000000   \n",
      "max     891.000000    1.000000    3.000000   80.000000    8.000000   \n",
      "\n",
      "            Parch        Fare  \n",
      "count  891.000000  891.000000  \n",
      "mean     0.381594   32.204208  \n",
      "std      0.806057   49.693429  \n",
      "min      0.000000    0.000000  \n",
      "25%      0.000000    7.910400  \n",
      "50%      0.000000   14.454200  \n",
      "75%      0.000000   31.000000  \n",
      "max      6.000000  512.329200  \n",
      "Index([u'PassengerId', u'Survived', u'Pclass', u'Name', u'Sex', u'Age',\n",
      "       u'SibSp', u'Parch', u'Ticket', u'Fare', u'Cabin', u'Embarked'],\n",
      "      dtype='object')\n"
     ]
    }
   ],
   "source": [
    "import pandas as pd\n",
    "data = pd.read_csv('train.csv')\n",
    "print data.head()\n",
    "print data.describe()\n",
    "print data.columns"
   ]
  },
  {
   "cell_type": "code",
   "execution_count": 3,
   "metadata": {
    "collapsed": false
   },
   "outputs": [
    {
     "data": {
      "text/plain": [
       "PassengerId      0\n",
       "Survived         0\n",
       "Pclass           0\n",
       "Name             0\n",
       "Sex              0\n",
       "Age            177\n",
       "SibSp            0\n",
       "Parch            0\n",
       "Ticket           0\n",
       "Fare             0\n",
       "Cabin          687\n",
       "Embarked         2\n",
       "dtype: int64"
      ]
     },
     "execution_count": 3,
     "metadata": {},
     "output_type": "execute_result"
    }
   ],
   "source": [
    "data.isnull().sum()"
   ]
  },
  {
   "cell_type": "markdown",
   "metadata": {},
   "source": [
    "So it looks like there's a lot of missing data in the age and cabin columns, so I need to figure out how to deal with that and make sure it doesn't mess up the data"
   ]
  },
  {
   "cell_type": "code",
   "execution_count": 4,
   "metadata": {
    "collapsed": false
   },
   "outputs": [
    {
     "data": {
      "text/plain": [
       "A10      1\n",
       "A14      1\n",
       "A16      1\n",
       "A19      1\n",
       "A20      1\n",
       "A23      1\n",
       "A24      1\n",
       "A26      1\n",
       "A31      1\n",
       "A32      1\n",
       "A34      1\n",
       "A36      1\n",
       "A5       1\n",
       "A6       1\n",
       "A7       1\n",
       "B101     1\n",
       "B102     1\n",
       "B18      2\n",
       "B19      1\n",
       "B20      2\n",
       "B22      2\n",
       "B28      2\n",
       "B3       1\n",
       "B30      1\n",
       "B35      2\n",
       "B37      1\n",
       "B38      1\n",
       "B39      1\n",
       "B4       1\n",
       "B41      1\n",
       "        ..\n",
       "E12      1\n",
       "E121     2\n",
       "E17      1\n",
       "E24      2\n",
       "E25      2\n",
       "E31      1\n",
       "E33      2\n",
       "E34      1\n",
       "E36      1\n",
       "E38      1\n",
       "E40      1\n",
       "E44      2\n",
       "E46      1\n",
       "E49      1\n",
       "E50      1\n",
       "E58      1\n",
       "E63      1\n",
       "E67      2\n",
       "E68      1\n",
       "E77      1\n",
       "E8       2\n",
       "F E69    1\n",
       "F G63    1\n",
       "F G73    2\n",
       "F2       3\n",
       "F33      3\n",
       "F38      1\n",
       "F4       2\n",
       "G6       4\n",
       "T        1\n",
       "Name: Cabin, dtype: int64"
      ]
     },
     "execution_count": 4,
     "metadata": {},
     "output_type": "execute_result"
    }
   ],
   "source": [
    "data.Cabin.value_counts().sort_index()"
   ]
  },
  {
   "cell_type": "markdown",
   "metadata": {},
   "source": [
    "Let's make some plots to investigate possible relationships between variables?"
   ]
  },
  {
   "cell_type": "code",
   "execution_count": 5,
   "metadata": {
    "collapsed": false,
    "scrolled": true
   },
   "outputs": [
    {
     "name": "stdout",
     "output_type": "stream",
     "text": [
      "Index([u'PassengerId', u'Survived', u'Pclass', u'Name', u'Sex', u'Age',\n",
      "       u'SibSp', u'Parch', u'Ticket', u'Fare', u'Cabin', u'Embarked'],\n",
      "      dtype='object')\n"
     ]
    },
    {
     "data": {
      "image/png": "[encoded data removed]",
      "text/plain": [
       "<matplotlib.figure.Figure at 0x7fefb51de290>"
      ]
     },
     "metadata": {},
     "output_type": "display_data"
    }
   ],
   "source": [
    "import numpy as np\n",
    "import matplotlib.pyplot as plt\n",
    "\n",
    "print data.columns\n",
    "\n",
    "%matplotlib inline\n",
    "plt.scatter(data.Age, data.Fare)\n",
    "plt.xlabel('age')\n",
    "plt.ylabel('fare price')\n",
    "plt.show()"
   ]
  },
  {
   "cell_type": "markdown",
   "metadata": {},
   "source": [
    "The purpose of this was mostly to try out using scatterplots, I didn't expect there to be a correlation between these two variables, and there really isn't much of one"
   ]
  },
  {
   "cell_type": "code",
   "execution_count": 6,
   "metadata": {
    "collapsed": false
   },
   "outputs": [
    {
     "name": "stdout",
     "output_type": "stream",
     "text": [
      "        PassengerId  Survived        Age     SibSp     Parch       Fare\n",
      "Pclass                                                                 \n",
      "1        461.597222  0.629630  38.233441  0.416667  0.356481  84.154687\n",
      "2        445.956522  0.472826  29.877630  0.402174  0.380435  20.662183\n",
      "3        439.154786  0.242363  25.140620  0.615071  0.393075  13.675550\n",
      "       PassengerId  Survived    Pclass     SibSp     Parch        Fare\n",
      "Age                                                                   \n",
      "0.42    804.000000  1.000000  3.000000  0.000000  1.000000    8.516700\n",
      "0.67    756.000000  1.000000  2.000000  1.000000  1.000000   14.500000\n",
      "0.75    557.500000  1.000000  3.000000  2.000000  1.000000   19.258300\n",
      "0.83    455.500000  1.000000  2.000000  0.500000  1.500000   23.875000\n",
      "0.92    306.000000  1.000000  1.000000  1.000000  2.000000  151.550000\n",
      "1.00    415.428571  0.714286  2.714286  1.857143  1.571429   30.005957\n",
      "2.00    346.900000  0.300000  2.600000  2.100000  1.300000   37.536250\n",
      "3.00    272.000000  0.833333  2.500000  1.833333  1.333333   25.781950\n",
      "4.00    466.100000  0.700000  2.600000  1.600000  1.400000   29.543330\n",
      "5.00    380.000000  1.000000  2.750000  1.750000  1.250000   22.717700\n",
      "6.00    762.333333  0.666667  2.666667  1.333333  1.333333   25.583333\n",
      "7.00    288.666667  0.333333  2.666667  2.666667  1.333333   31.687500\n",
      "8.00    400.250000  0.500000  2.500000  2.000000  1.250000   28.300000\n",
      "9.00    437.250000  0.250000  3.000000  2.500000  1.750000   27.938538\n",
      "10.00   620.000000  0.000000  3.000000  1.500000  2.000000   26.025000\n",
      "11.00   534.500000  0.250000  2.500000  2.500000  1.500000   54.240625\n",
      "12.00   126.000000  1.000000  3.000000  1.000000  0.000000   11.241700\n",
      "13.00   614.000000  1.000000  2.500000  0.000000  0.500000   13.364600\n",
      "14.00   312.000000  0.500000  2.500000  2.000000  0.833333   42.625700\n",
      "14.50   112.000000  0.000000  3.000000  1.000000  0.000000   14.454200\n",
      "15.00   554.600000  0.800000  2.600000  0.400000  0.400000   49.655020\n",
      "16.00   422.294118  0.352941  2.529412  0.764706  0.529412   25.745100\n",
      "17.00   423.000000  0.461538  2.384615  0.615385  0.384615   28.389423\n",
      "18.00   516.269231  0.346154  2.461538  0.384615  0.423077   38.063462\n",
      "19.00   389.400000  0.360000  2.360000  0.320000  0.200000   27.869496\n",
      "20.00   493.066667  0.200000  3.000000  0.200000  0.066667    8.624173\n",
      "20.50   228.000000  0.000000  3.000000  0.000000  0.000000    7.250000\n",
      "21.00   390.208333  0.208333  2.583333  0.333333  0.208333   31.565621\n",
      "22.00   365.740741  0.407407  2.555556  0.148148  0.222222   25.504781\n",
      "23.00   510.266667  0.333333  2.133333  0.400000  0.266667   37.994720\n",
      "...            ...       ...       ...       ...       ...         ...\n",
      "44.00   437.111111  0.333333  2.111111  0.444444  0.222222   29.758333\n",
      "45.00   367.500000  0.416667  2.000000  0.333333  0.583333   36.818408\n",
      "45.50   268.000000  0.000000  2.000000  0.000000  0.000000   17.862500\n",
      "46.00   427.000000  0.000000  1.333333  0.333333  0.000000   55.458333\n",
      "47.00   534.666667  0.111111  1.777778  0.222222  0.111111   27.601389\n",
      "48.00   663.111111  0.666667  1.666667  0.555556  0.555556   37.893067\n",
      "49.00   533.500000  0.666667  1.333333  0.666667  0.166667   59.929183\n",
      "50.00   457.200000  0.500000  1.600000  0.400000  0.200000   64.025830\n",
      "51.00   456.142857  0.285714  2.000000  0.142857  0.142857   28.752386\n",
      "52.00   589.500000  0.500000  1.333333  0.500000  0.333333   51.402783\n",
      "53.00   572.000000  1.000000  1.000000  2.000000  0.000000   51.479200\n",
      "54.00   383.625000  0.375000  1.500000  0.500000  0.500000   44.477087\n",
      "55.00   254.500000  0.500000  1.500000  0.000000  0.000000   23.250000\n",
      "55.50   153.000000  0.000000  3.000000  0.000000  0.000000    8.050000\n",
      "56.00   542.750000  0.500000  1.000000  0.000000  0.250000   43.976025\n",
      "57.00   700.000000  0.000000  2.000000  0.000000  0.000000   11.425000\n",
      "58.00   325.000000  0.600000  1.000000  0.000000  0.600000   93.901660\n",
      "59.00   164.000000  0.000000  2.500000  0.000000  0.000000   10.375000\n",
      "60.00   583.750000  0.500000  1.250000  0.750000  0.500000   55.000000\n",
      "61.00   374.666667  0.000000  1.666667  0.000000  0.000000   24.019433\n",
      "62.00   552.500000  0.500000  1.250000  0.000000  0.000000   35.900000\n",
      "63.00   380.000000  1.000000  2.000000  0.500000  0.000000   43.772900\n",
      "64.00   492.500000  0.000000  1.000000  0.500000  2.000000  144.500000\n",
      "65.00   264.333333  0.000000  1.666667  0.000000  0.333333   32.093067\n",
      "66.00    34.000000  0.000000  2.000000  0.000000  0.000000   10.500000\n",
      "70.00   709.500000  0.000000  1.500000  0.500000  0.500000   40.750000\n",
      "70.50   117.000000  0.000000  3.000000  0.000000  0.000000    7.750000\n",
      "71.00   295.500000  0.000000  1.000000  0.000000  0.000000   42.079200\n",
      "74.00   852.000000  0.000000  3.000000  0.000000  0.000000    7.775000\n",
      "80.00   631.000000  1.000000  1.000000  0.000000  0.000000   30.000000\n",
      "\n",
      "[88 rows x 6 columns]\n",
      "        PassengerId  Survived    Pclass        Age     SibSp     Parch  \\\n",
      "Sex                                                                      \n",
      "female   431.028662  0.742038  2.159236  27.915709  0.694268  0.649682   \n",
      "male     454.147314  0.188908  2.389948  30.726645  0.429809  0.235702   \n",
      "\n",
      "             Fare  \n",
      "Sex                \n",
      "female  44.479818  \n",
      "male    25.523893  \n",
      "          PassengerId  Survived    Pclass        Age     SibSp     Parch\n",
      "Fare                                                                    \n",
      "0.0000     516.400000  0.066667  1.933333  35.142857  0.000000  0.000000\n",
      "4.0125     379.000000  0.000000  3.000000  20.000000  0.000000  0.000000\n",
      "5.0000     873.000000  0.000000  1.000000  33.000000  0.000000  0.000000\n",
      "6.2375     327.000000  0.000000  3.000000  61.000000  0.000000  0.000000\n",
      "6.4375     844.000000  0.000000  3.000000  34.500000  0.000000  0.000000\n",
      "6.4500     819.000000  0.000000  3.000000  43.000000  0.000000  0.000000\n",
      "6.4958     287.500000  0.000000  3.000000  26.000000  0.500000  0.000000\n",
      "6.7500     399.500000  0.000000  3.000000  18.500000  0.000000  0.000000\n",
      "6.8583     412.000000  0.000000  3.000000        NaN  0.000000  0.000000\n",
      "6.9500     826.000000  0.000000  3.000000        NaN  0.000000  0.000000\n",
      "6.9750     467.500000  0.500000  3.000000  36.000000  0.000000  0.000000\n",
      "7.0458     478.000000  0.000000  3.000000  29.000000  1.000000  0.000000\n",
      "7.0500     493.571429  0.000000  3.000000  27.833333  0.000000  0.000000\n",
      "7.0542     677.000000  0.000000  3.000000  34.000000  0.500000  0.000000\n",
      "7.1250     507.750000  0.000000  3.000000  28.750000  0.000000  0.000000\n",
      "7.1417     128.000000  1.000000  3.000000  24.000000  0.000000  0.000000\n",
      "7.2250     461.083333  0.250000  3.000000  29.583333  0.000000  0.000000\n",
      "7.2292     491.266667  0.266667  3.000000  21.125000  0.133333  0.133333\n",
      "7.2500     355.384615  0.076923  3.000000  29.050000  0.076923  0.000000\n",
      "7.3125     155.000000  0.000000  3.000000        NaN  0.000000  0.000000\n",
      "7.4958     655.333333  0.333333  3.000000  26.000000  0.000000  0.000000\n",
      "7.5208     479.000000  0.000000  3.000000  22.000000  0.000000  0.000000\n",
      "7.5500     595.250000  0.250000  3.000000  32.500000  0.000000  0.000000\n",
      "7.6292     503.000000  0.000000  3.000000        NaN  0.000000  0.000000\n",
      "7.6500     399.750000  0.250000  3.000000  26.750000  0.000000  0.000000\n",
      "7.7250     469.000000  0.000000  3.000000        NaN  0.000000  0.000000\n",
      "7.7292     389.000000  0.000000  3.000000        NaN  0.000000  0.000000\n",
      "7.7333     476.750000  0.500000  3.000000  18.500000  0.000000  0.000000\n",
      "7.7375     753.500000  0.500000  3.000000        NaN  0.000000  0.000000\n",
      "7.7417     704.000000  0.000000  3.000000  25.000000  0.000000  0.000000\n",
      "...               ...       ...       ...        ...       ...       ...\n",
      "80.0000    446.000000  1.000000  1.000000  50.000000  0.000000  0.000000\n",
      "81.8583    446.000000  1.000000  1.000000   4.000000  0.000000  2.000000\n",
      "82.1708    205.500000  0.500000  1.000000  28.000000  1.000000  0.000000\n",
      "83.1583    675.666667  1.000000  1.000000  39.666667  0.333333  0.666667\n",
      "83.4750    147.000000  0.500000  1.000000  40.000000  1.000000  0.000000\n",
      "86.5000    507.666667  1.000000  1.000000  26.333333  0.000000  0.000000\n",
      "89.1042    652.000000  1.000000  1.000000  49.000000  1.000000  0.000000\n",
      "90.0000    342.750000  0.750000  1.000000  37.500000  1.250000  0.000000\n",
      "91.0792    388.500000  1.000000  1.000000  22.000000  1.000000  0.000000\n",
      "93.5000    671.000000  1.000000  1.000000  41.000000  0.500000  0.500000\n",
      "106.4250   541.500000  0.500000  1.000000  40.000000  0.500000  0.000000\n",
      "108.9000   407.000000  0.500000  1.000000  17.500000  1.000000  0.000000\n",
      "110.8833   534.750000  0.750000  1.000000  35.000000  0.500000  1.000000\n",
      "113.2750   423.333333  0.666667  1.000000  37.333333  0.666667  0.666667\n",
      "120.0000   598.500000  1.000000  1.000000  24.250000  1.000000  2.000000\n",
      "133.6500   498.000000  1.000000  1.000000  50.000000  1.500000  0.000000\n",
      "134.5000   329.000000  1.000000  1.000000  40.500000  0.500000  0.500000\n",
      "135.6333   323.333333  0.666667  1.000000  31.000000  0.000000  0.000000\n",
      "146.5208   114.000000  1.000000  1.000000  58.000000  0.500000  0.000000\n",
      "151.5500   453.000000  0.500000  1.000000  12.480000  0.750000  1.500000\n",
      "153.4625   404.000000  0.666667  1.000000  45.333333  0.000000  0.666667\n",
      "164.8667   588.000000  1.000000  1.000000  38.000000  0.500000  1.500000\n",
      "211.3375   733.666667  1.000000  1.000000  29.000000  0.000000  0.666667\n",
      "211.5000   378.000000  0.000000  1.000000  27.000000  0.000000  2.000000\n",
      "221.7792   528.000000  0.000000  1.000000        NaN  0.000000  0.000000\n",
      "227.5250   589.250000  0.750000  1.000000  32.666667  0.250000  0.000000\n",
      "247.5208   209.500000  0.500000  1.000000  37.000000  0.000000  1.000000\n",
      "262.3750   527.500000  1.000000  1.000000  19.500000  2.000000  2.000000\n",
      "263.0000   224.500000  0.500000  1.000000  32.500000  2.500000  2.500000\n",
      "512.3292   559.000000  1.000000  1.000000  35.333333  0.000000  0.333333\n",
      "\n",
      "[248 rows x 6 columns]\n"
     ]
    }
   ],
   "source": [
    "print data.groupby(['Pclass']).mean()\n",
    "print data.groupby(['Age']).mean()\n",
    "print data.groupby(['Sex']).mean()\n",
    "print data.groupby(['Fare']).mean()"
   ]
  },
  {
   "cell_type": "code",
   "execution_count": 19,
   "metadata": {
    "collapsed": false
   },
   "outputs": [
    {
     "name": "stdout",
     "output_type": "stream",
     "text": [
      "PERCENT SUVIVAL RATE FOR DEMOGRAPHICS\n",
      "-------------------------------------\n",
      "children 0.503597122302\n",
      "adults 0.382608695652\n",
      "males 0.188908145581\n",
      "females 0.742038216561\n",
      "male children 0.338028169014\n",
      "female children 0.676470588235\n",
      "male adults 0.180628272251\n",
      "female adults 0.782383419689\n"
     ]
    }
   ],
   "source": [
    "children = data.Survived[data.Age <= 18]\n",
    "adults = data.Survived[data.Age > 18]\n",
    "females = data.Survived[data.Sex == 'female']\n",
    "males = data.Survived[data.Sex == 'male']\n",
    "male_children = data.Survived[data.Sex == 'male'][data.Age <=18]\n",
    "female_children = data.Survived[data.Sex == 'female'][data.Age <=18]\n",
    "male_adults = data.Survived[data.Sex == 'male'][data.Age>18]\n",
    "female_adults = data.Survived[data.Sex == 'female'][data.Age>18]\n",
    "print \"PERCENT SUVIVAL RATE FOR DEMOGRAPHICS\"\n",
    "print \"-------------------------------------\"\n",
    "print \"children\", children.mean()\n",
    "print \"adults\", adults.mean()\n",
    "print \"males\", males.mean()\n",
    "print \"females\", females.mean()\n",
    "print \"male children\", male_children.mean()\n",
    "print \"female children\", female_children.mean()\n",
    "print \"male adults\", male_adults.mean()\n",
    "print \"female adults\", female_adults.mean()\n"
   ]
  },
  {
   "cell_type": "markdown",
   "metadata": {},
   "source": [
    "What we learn from this: just looking at children vs adults, children are more likely to survive vs adults.  Women are more likely to survive then men.  However, we then find that female adults are most likely to survive, followed by female children, followed by male children, followed last by male adults"
   ]
  },
  {
   "cell_type": "code",
   "execution_count": 8,
   "metadata": {
    "collapsed": false
   },
   "outputs": [
    {
     "name": "stdout",
     "output_type": "stream",
     "text": [
      "upper class 0.62962962963\n",
      "middle class 0.472826086957\n",
      "lower class 0.242362525458\n"
     ]
    }
   ],
   "source": [
    "print \"PERCENT SUVIVAL RATE FOR CLASS\"\n",
    "print \"-------------------------------------\"\n",
    "print \"upper class\", data.Survived[data.Pclass == 1].mean()\n",
    "print \"middle class\", data.Survived[data.Pclass == 2].mean()\n",
    "print \"lower class\", data.Survived[data.Pclass == 3].mean()"
   ]
  },
  {
   "cell_type": "markdown",
   "metadata": {},
   "source": [
    "Surprise surprse, the more upper class you are, the more likely you were to survive"
   ]
  },
  {
   "cell_type": "code",
   "execution_count": 9,
   "metadata": {
    "collapsed": false
   },
   "outputs": [
    {
     "name": "stdout",
     "output_type": "stream",
     "text": [
      "port c 0.553571428571\n",
      "port s 0.336956521739\n",
      "port q 0.38961038961\n"
     ]
    }
   ],
   "source": [
    "print \"PERCENT SUVIVAL RATE FOR PORT OF DEPARTURE\"\n",
    "print \"-------------------------------------\"\n",
    "print \"port c\", data.Survived[data.Embarked == \"C\"].mean()\n",
    "print \"port s\", data.Survived[data.Embarked == \"S\"].mean()\n",
    "print \"port q\", data.Survived[data.Embarked == \"Q\"].mean()"
   ]
  },
  {
   "cell_type": "markdown",
   "metadata": {},
   "source": [
    "I was curious about the ports variable, and it looks like people from Port C were most likely to survive"
   ]
  },
  {
   "cell_type": "code",
   "execution_count": 10,
   "metadata": {
    "collapsed": false
   },
   "outputs": [
    {
     "name": "stdout",
     "output_type": "stream",
     "text": [
      "port c 1.8869047619\n",
      "port s 2.35093167702\n",
      "port q 2.90909090909\n"
     ]
    }
   ],
   "source": [
    "print \"AVERAGE CLASS RATE FOR PORT OF DEPARTURE\"\n",
    "print \"-------------------------------------\"\n",
    "print \"port c\", data.Pclass[data.Embarked == \"C\"].mean()\n",
    "print \"port s\", data.Pclass[data.Embarked == \"S\"].mean()\n",
    "print \"port q\", data.Pclass[data.Embarked == \"Q\"].mean()"
   ]
  },
  {
   "cell_type": "markdown",
   "metadata": {},
   "source": [
    "But, if you look at the average socioeconomic level of each port, it looks like more rich people boarded at port C than the others, leading to its higher survival rate."
   ]
  },
  {
   "cell_type": "code",
   "execution_count": 20,
   "metadata": {
    "collapsed": false
   },
   "outputs": [
    {
     "name": "stdout",
     "output_type": "stream",
     "text": [
      "AVERAGE FARE FOR PORTS\n",
      "-------------------------------------\n",
      "port c 59.9541440476\n",
      "port s 27.0798118012\n",
      "port q 13.2760298701\n"
     ]
    }
   ],
   "source": [
    "print \"AVERAGE FARE FOR PORTS\"\n",
    "print \"-------------------------------------\"\n",
    "print \"port c\", data.Fare[data.Embarked == \"C\"].mean()\n",
    "print \"port s\", data.Fare[data.Embarked == \"S\"].mean()\n",
    "print \"port q\", data.Fare[data.Embarked == \"Q\"].mean()"
   ]
  },
  {
   "cell_type": "markdown",
   "metadata": {},
   "source": [
    "Again, this sort of goes along with my Port C = rich people port hypothesis, people who boarded at Port C paid a significantly higher fare"
   ]
  },
  {
   "cell_type": "code",
   "execution_count": 21,
   "metadata": {
    "collapsed": false
   },
   "outputs": [
    {
     "name": "stdout",
     "output_type": "stream",
     "text": [
      "AVERAGE FARE PER CLASS\n",
      "-------------------------------------\n",
      "upper class 84.1546875\n",
      "middle class 20.6621831522\n",
      "lower class 13.6755501018\n"
     ]
    }
   ],
   "source": [
    "print \"AVERAGE FARE PER CLASS\"\n",
    "print \"-------------------------------------\"\n",
    "print \"upper class\", data.Fare[data.Pclass == 1].mean()\n",
    "print \"middle class\", data.Fare[data.Pclass == 2].mean()\n",
    "print \"lower class\", data.Fare[data.Pclass == 3].mean()"
   ]
  },
  {
   "cell_type": "markdown",
   "metadata": {
    "collapsed": true
   },
   "source": [
    "This shows that, as expected, the upper class paid significantly higher fares than the middle or lower classes"
   ]
  },
  {
   "cell_type": "code",
   "execution_count": 29,
   "metadata": {
    "collapsed": false
   },
   "outputs": [
    {
     "name": "stdout",
     "output_type": "stream",
     "text": [
      " PERCENT SUVIVAL RATE FOR FAR\n",
      "-------------------------------------\n",
      "under $10 0.199404761905\n",
      "10 - 30 0.425396825397\n",
      "30 - 80 0.5\n",
      "80 - 200 0.803571428571\n",
      "over 200 0.7\n"
     ]
    }
   ],
   "source": [
    "print \"PERCENT SUVIVAL RATE FOR FAR\"\n",
    "print \"-------------------------------------\"\n",
    "print \"under $10\", data.Survived[data.Fare < 10].mean()\n",
    "print \"10 - 30\", data.Survived[(data.Fare >=10) & (data.Fare < 30)].mean()\n",
    "print \"30 - 80\", data.Survived[(data.Fare >=30) & (data.Fare < 80)].mean()\n",
    "print \"80 - 200\", data.Survived[(data.Fare >=80) & (data.Fare < 200)].mean()\n",
    "print \"over 200\", data.Survived[(data.Fare >=200) & (data.Fare < 600)].mean()"
   ]
  },
  {
   "cell_type": "markdown",
   "metadata": {},
   "source": [
    "Again, as you might expect (given the correlation of all these factors with class), the more you paid for the ticket, the more likely you were to survive"
   ]
  },
  {
   "cell_type": "code",
   "execution_count": 13,
   "metadata": {
    "collapsed": false
   },
   "outputs": [
    {
     "data": {
      "text/html": [
       "<div>\n",
       "<table border=\"1\" class=\"dataframe\">\n",
       "  <thead>\n",
       "    <tr style=\"text-align: right;\">\n",
       "      <th></th>\n",
       "      <th></th>\n",
       "      <th>PassengerId</th>\n",
       "      <th>Survived</th>\n",
       "      <th>Age</th>\n",
       "      <th>SibSp</th>\n",
       "      <th>Parch</th>\n",
       "      <th>Fare</th>\n",
       "    </tr>\n",
       "    <tr>\n",
       "      <th>Pclass</th>\n",
       "      <th>Sex</th>\n",
       "      <th></th>\n",
       "      <th></th>\n",
       "      <th></th>\n",
       "      <th></th>\n",
       "      <th></th>\n",
       "      <th></th>\n",
       "    </tr>\n",
       "  </thead>\n",
       "  <tbody>\n",
       "    <tr>\n",
       "      <th rowspan=\"2\" valign=\"top\">1</th>\n",
       "      <th>female</th>\n",
       "      <td>469.212766</td>\n",
       "      <td>0.968085</td>\n",
       "      <td>34.611765</td>\n",
       "      <td>0.553191</td>\n",
       "      <td>0.457447</td>\n",
       "      <td>106.125798</td>\n",
       "    </tr>\n",
       "    <tr>\n",
       "      <th>male</th>\n",
       "      <td>455.729508</td>\n",
       "      <td>0.368852</td>\n",
       "      <td>41.281386</td>\n",
       "      <td>0.311475</td>\n",
       "      <td>0.278689</td>\n",
       "      <td>67.226127</td>\n",
       "    </tr>\n",
       "    <tr>\n",
       "      <th rowspan=\"2\" valign=\"top\">2</th>\n",
       "      <th>female</th>\n",
       "      <td>443.105263</td>\n",
       "      <td>0.921053</td>\n",
       "      <td>28.722973</td>\n",
       "      <td>0.486842</td>\n",
       "      <td>0.605263</td>\n",
       "      <td>21.970121</td>\n",
       "    </tr>\n",
       "    <tr>\n",
       "      <th>male</th>\n",
       "      <td>447.962963</td>\n",
       "      <td>0.157407</td>\n",
       "      <td>30.740707</td>\n",
       "      <td>0.342593</td>\n",
       "      <td>0.222222</td>\n",
       "      <td>19.741782</td>\n",
       "    </tr>\n",
       "    <tr>\n",
       "      <th rowspan=\"2\" valign=\"top\">3</th>\n",
       "      <th>female</th>\n",
       "      <td>399.729167</td>\n",
       "      <td>0.500000</td>\n",
       "      <td>21.750000</td>\n",
       "      <td>0.895833</td>\n",
       "      <td>0.798611</td>\n",
       "      <td>16.118810</td>\n",
       "    </tr>\n",
       "    <tr>\n",
       "      <th>male</th>\n",
       "      <td>455.515850</td>\n",
       "      <td>0.135447</td>\n",
       "      <td>26.507589</td>\n",
       "      <td>0.498559</td>\n",
       "      <td>0.224784</td>\n",
       "      <td>12.661633</td>\n",
       "    </tr>\n",
       "  </tbody>\n",
       "</table>\n",
       "</div>"
      ],
      "text/plain": [
       "               PassengerId  Survived        Age     SibSp     Parch  \\\n",
       "Pclass Sex                                                            \n",
       "1      female   469.212766  0.968085  34.611765  0.553191  0.457447   \n",
       "       male     455.729508  0.368852  41.281386  0.311475  0.278689   \n",
       "2      female   443.105263  0.921053  28.722973  0.486842  0.605263   \n",
       "       male     447.962963  0.157407  30.740707  0.342593  0.222222   \n",
       "3      female   399.729167  0.500000  21.750000  0.895833  0.798611   \n",
       "       male     455.515850  0.135447  26.507589  0.498559  0.224784   \n",
       "\n",
       "                     Fare  \n",
       "Pclass Sex                 \n",
       "1      female  106.125798  \n",
       "       male     67.226127  \n",
       "2      female   21.970121  \n",
       "       male     19.741782  \n",
       "3      female   16.118810  \n",
       "       male     12.661633  "
      ]
     },
     "execution_count": 13,
     "metadata": {},
     "output_type": "execute_result"
    }
   ],
   "source": [
    "data.groupby(['Pclass', 'Sex']).mean()"
   ]
  },
  {
   "cell_type": "code",
   "execution_count": null,
   "metadata": {
    "collapsed": true
   },
   "outputs": [],
   "source": []
  },
  {
   "cell_type": "code",
   "execution_count": 14,
   "metadata": {
    "collapsed": false
   },
   "outputs": [
    {
     "name": "stdout",
     "output_type": "stream",
     "text": [
      "False    752\n",
      "True     139\n",
      "Name: Child, dtype: int64\n"
     ]
    }
   ],
   "source": [
    "data['Child'] = data.Age <= 18\n",
    "print data.Child.value_counts().sort_index()"
   ]
  },
  {
   "cell_type": "code",
   "execution_count": 15,
   "metadata": {
    "collapsed": false
   },
   "outputs": [
    {
     "data": {
      "text/html": [
       "<div>\n",
       "<table border=\"1\" class=\"dataframe\">\n",
       "  <thead>\n",
       "    <tr style=\"text-align: right;\">\n",
       "      <th></th>\n",
       "      <th></th>\n",
       "      <th></th>\n",
       "      <th>PassengerId</th>\n",
       "      <th>Survived</th>\n",
       "      <th>Age</th>\n",
       "      <th>SibSp</th>\n",
       "      <th>Parch</th>\n",
       "      <th>Fare</th>\n",
       "    </tr>\n",
       "    <tr>\n",
       "      <th>Pclass</th>\n",
       "      <th>Sex</th>\n",
       "      <th>Child</th>\n",
       "      <th></th>\n",
       "      <th></th>\n",
       "      <th></th>\n",
       "      <th></th>\n",
       "      <th></th>\n",
       "      <th></th>\n",
       "    </tr>\n",
       "  </thead>\n",
       "  <tbody>\n",
       "    <tr>\n",
       "      <th rowspan=\"4\" valign=\"top\">1</th>\n",
       "      <th rowspan=\"2\" valign=\"top\">female</th>\n",
       "      <th>False</th>\n",
       "      <td>461.493976</td>\n",
       "      <td>0.975904</td>\n",
       "      <td>37.500000</td>\n",
       "      <td>0.542169</td>\n",
       "      <td>0.385542</td>\n",
       "      <td>103.296486</td>\n",
       "    </tr>\n",
       "    <tr>\n",
       "      <th>True</th>\n",
       "      <td>527.454545</td>\n",
       "      <td>0.909091</td>\n",
       "      <td>15.181818</td>\n",
       "      <td>0.636364</td>\n",
       "      <td>1.000000</td>\n",
       "      <td>127.474245</td>\n",
       "    </tr>\n",
       "    <tr>\n",
       "      <th rowspan=\"2\" valign=\"top\">male</th>\n",
       "      <th>False</th>\n",
       "      <td>452.880342</td>\n",
       "      <td>0.350427</td>\n",
       "      <td>42.901042</td>\n",
       "      <td>0.299145</td>\n",
       "      <td>0.222222</td>\n",
       "      <td>65.199965</td>\n",
       "    </tr>\n",
       "    <tr>\n",
       "      <th>True</th>\n",
       "      <td>522.400000</td>\n",
       "      <td>0.800000</td>\n",
       "      <td>10.184000</td>\n",
       "      <td>0.600000</td>\n",
       "      <td>1.600000</td>\n",
       "      <td>114.638320</td>\n",
       "    </tr>\n",
       "    <tr>\n",
       "      <th rowspan=\"4\" valign=\"top\">2</th>\n",
       "      <th rowspan=\"2\" valign=\"top\">female</th>\n",
       "      <th>False</th>\n",
       "      <td>454.435484</td>\n",
       "      <td>0.903226</td>\n",
       "      <td>33.158333</td>\n",
       "      <td>0.483871</td>\n",
       "      <td>0.483871</td>\n",
       "      <td>21.271439</td>\n",
       "    </tr>\n",
       "    <tr>\n",
       "      <th>True</th>\n",
       "      <td>392.928571</td>\n",
       "      <td>1.000000</td>\n",
       "      <td>9.714286</td>\n",
       "      <td>0.500000</td>\n",
       "      <td>1.142857</td>\n",
       "      <td>25.064286</td>\n",
       "    </tr>\n",
       "    <tr>\n",
       "      <th rowspan=\"2\" valign=\"top\">male</th>\n",
       "      <th>False</th>\n",
       "      <td>441.462366</td>\n",
       "      <td>0.086022</td>\n",
       "      <td>34.750000</td>\n",
       "      <td>0.311828</td>\n",
       "      <td>0.139785</td>\n",
       "      <td>18.713530</td>\n",
       "    </tr>\n",
       "    <tr>\n",
       "      <th>True</th>\n",
       "      <td>488.266667</td>\n",
       "      <td>0.600000</td>\n",
       "      <td>8.288667</td>\n",
       "      <td>0.533333</td>\n",
       "      <td>0.733333</td>\n",
       "      <td>26.116947</td>\n",
       "    </tr>\n",
       "    <tr>\n",
       "      <th rowspan=\"4\" valign=\"top\">3</th>\n",
       "      <th rowspan=\"2\" valign=\"top\">female</th>\n",
       "      <th>False</th>\n",
       "      <td>394.673267</td>\n",
       "      <td>0.495050</td>\n",
       "      <td>30.161017</td>\n",
       "      <td>0.702970</td>\n",
       "      <td>0.752475</td>\n",
       "      <td>15.585769</td>\n",
       "    </tr>\n",
       "    <tr>\n",
       "      <th>True</th>\n",
       "      <td>411.604651</td>\n",
       "      <td>0.511628</td>\n",
       "      <td>10.209302</td>\n",
       "      <td>1.348837</td>\n",
       "      <td>0.906977</td>\n",
       "      <td>17.370835</td>\n",
       "    </tr>\n",
       "    <tr>\n",
       "      <th rowspan=\"2\" valign=\"top\">male</th>\n",
       "      <th>False</th>\n",
       "      <td>456.344595</td>\n",
       "      <td>0.121622</td>\n",
       "      <td>30.366337</td>\n",
       "      <td>0.273649</td>\n",
       "      <td>0.111486</td>\n",
       "      <td>11.287144</td>\n",
       "    </tr>\n",
       "    <tr>\n",
       "      <th>True</th>\n",
       "      <td>450.705882</td>\n",
       "      <td>0.215686</td>\n",
       "      <td>11.223922</td>\n",
       "      <td>1.803922</td>\n",
       "      <td>0.882353</td>\n",
       "      <td>20.639055</td>\n",
       "    </tr>\n",
       "  </tbody>\n",
       "</table>\n",
       "</div>"
      ],
      "text/plain": [
       "                     PassengerId  Survived        Age     SibSp     Parch  \\\n",
       "Pclass Sex    Child                                                         \n",
       "1      female False   461.493976  0.975904  37.500000  0.542169  0.385542   \n",
       "              True    527.454545  0.909091  15.181818  0.636364  1.000000   \n",
       "       male   False   452.880342  0.350427  42.901042  0.299145  0.222222   \n",
       "              True    522.400000  0.800000  10.184000  0.600000  1.600000   \n",
       "2      female False   454.435484  0.903226  33.158333  0.483871  0.483871   \n",
       "              True    392.928571  1.000000   9.714286  0.500000  1.142857   \n",
       "       male   False   441.462366  0.086022  34.750000  0.311828  0.139785   \n",
       "              True    488.266667  0.600000   8.288667  0.533333  0.733333   \n",
       "3      female False   394.673267  0.495050  30.161017  0.702970  0.752475   \n",
       "              True    411.604651  0.511628  10.209302  1.348837  0.906977   \n",
       "       male   False   456.344595  0.121622  30.366337  0.273649  0.111486   \n",
       "              True    450.705882  0.215686  11.223922  1.803922  0.882353   \n",
       "\n",
       "                           Fare  \n",
       "Pclass Sex    Child              \n",
       "1      female False  103.296486  \n",
       "              True   127.474245  \n",
       "       male   False   65.199965  \n",
       "              True   114.638320  \n",
       "2      female False   21.271439  \n",
       "              True    25.064286  \n",
       "       male   False   18.713530  \n",
       "              True    26.116947  \n",
       "3      female False   15.585769  \n",
       "              True    17.370835  \n",
       "       male   False   11.287144  \n",
       "              True    20.639055  "
      ]
     },
     "execution_count": 15,
     "metadata": {},
     "output_type": "execute_result"
    }
   ],
   "source": [
    "data.groupby(['Pclass', 'Sex', 'Child']).mean()"
   ]
  },
  {
   "cell_type": "markdown",
   "metadata": {},
   "source": [
    "I think this table really highlights the differences in class, sex, and age that make up the difference in survival rates.  Comparing the first to the third class is huge, but also in general comparing men to women is huge too."
   ]
  },
  {
   "cell_type": "code",
   "execution_count": 16,
   "metadata": {
    "collapsed": false
   },
   "outputs": [
    {
     "data": {
      "text/html": [
       "<div>\n",
       "<table border=\"1\" class=\"dataframe\">\n",
       "  <thead>\n",
       "    <tr style=\"text-align: right;\">\n",
       "      <th></th>\n",
       "      <th></th>\n",
       "      <th></th>\n",
       "      <th>PassengerId</th>\n",
       "      <th>Survived</th>\n",
       "      <th>Age</th>\n",
       "      <th>SibSp</th>\n",
       "      <th>Parch</th>\n",
       "      <th>Fare</th>\n",
       "    </tr>\n",
       "    <tr>\n",
       "      <th>Pclass</th>\n",
       "      <th>Child</th>\n",
       "      <th>Sex</th>\n",
       "      <th></th>\n",
       "      <th></th>\n",
       "      <th></th>\n",
       "      <th></th>\n",
       "      <th></th>\n",
       "      <th></th>\n",
       "    </tr>\n",
       "  </thead>\n",
       "  <tbody>\n",
       "    <tr>\n",
       "      <th rowspan=\"4\" valign=\"top\">1</th>\n",
       "      <th rowspan=\"2\" valign=\"top\">False</th>\n",
       "      <th>female</th>\n",
       "      <td>461.493976</td>\n",
       "      <td>0.975904</td>\n",
       "      <td>37.500000</td>\n",
       "      <td>0.542169</td>\n",
       "      <td>0.385542</td>\n",
       "      <td>103.296486</td>\n",
       "    </tr>\n",
       "    <tr>\n",
       "      <th>male</th>\n",
       "      <td>452.880342</td>\n",
       "      <td>0.350427</td>\n",
       "      <td>42.901042</td>\n",
       "      <td>0.299145</td>\n",
       "      <td>0.222222</td>\n",
       "      <td>65.199965</td>\n",
       "    </tr>\n",
       "    <tr>\n",
       "      <th rowspan=\"2\" valign=\"top\">True</th>\n",
       "      <th>female</th>\n",
       "      <td>527.454545</td>\n",
       "      <td>0.909091</td>\n",
       "      <td>15.181818</td>\n",
       "      <td>0.636364</td>\n",
       "      <td>1.000000</td>\n",
       "      <td>127.474245</td>\n",
       "    </tr>\n",
       "    <tr>\n",
       "      <th>male</th>\n",
       "      <td>522.400000</td>\n",
       "      <td>0.800000</td>\n",
       "      <td>10.184000</td>\n",
       "      <td>0.600000</td>\n",
       "      <td>1.600000</td>\n",
       "      <td>114.638320</td>\n",
       "    </tr>\n",
       "    <tr>\n",
       "      <th rowspan=\"4\" valign=\"top\">2</th>\n",
       "      <th rowspan=\"2\" valign=\"top\">False</th>\n",
       "      <th>female</th>\n",
       "      <td>454.435484</td>\n",
       "      <td>0.903226</td>\n",
       "      <td>33.158333</td>\n",
       "      <td>0.483871</td>\n",
       "      <td>0.483871</td>\n",
       "      <td>21.271439</td>\n",
       "    </tr>\n",
       "    <tr>\n",
       "      <th>male</th>\n",
       "      <td>441.462366</td>\n",
       "      <td>0.086022</td>\n",
       "      <td>34.750000</td>\n",
       "      <td>0.311828</td>\n",
       "      <td>0.139785</td>\n",
       "      <td>18.713530</td>\n",
       "    </tr>\n",
       "    <tr>\n",
       "      <th rowspan=\"2\" valign=\"top\">True</th>\n",
       "      <th>female</th>\n",
       "      <td>392.928571</td>\n",
       "      <td>1.000000</td>\n",
       "      <td>9.714286</td>\n",
       "      <td>0.500000</td>\n",
       "      <td>1.142857</td>\n",
       "      <td>25.064286</td>\n",
       "    </tr>\n",
       "    <tr>\n",
       "      <th>male</th>\n",
       "      <td>488.266667</td>\n",
       "      <td>0.600000</td>\n",
       "      <td>8.288667</td>\n",
       "      <td>0.533333</td>\n",
       "      <td>0.733333</td>\n",
       "      <td>26.116947</td>\n",
       "    </tr>\n",
       "    <tr>\n",
       "      <th rowspan=\"4\" valign=\"top\">3</th>\n",
       "      <th rowspan=\"2\" valign=\"top\">False</th>\n",
       "      <th>female</th>\n",
       "      <td>394.673267</td>\n",
       "      <td>0.495050</td>\n",
       "      <td>30.161017</td>\n",
       "      <td>0.702970</td>\n",
       "      <td>0.752475</td>\n",
       "      <td>15.585769</td>\n",
       "    </tr>\n",
       "    <tr>\n",
       "      <th>male</th>\n",
       "      <td>456.344595</td>\n",
       "      <td>0.121622</td>\n",
       "      <td>30.366337</td>\n",
       "      <td>0.273649</td>\n",
       "      <td>0.111486</td>\n",
       "      <td>11.287144</td>\n",
       "    </tr>\n",
       "    <tr>\n",
       "      <th rowspan=\"2\" valign=\"top\">True</th>\n",
       "      <th>female</th>\n",
       "      <td>411.604651</td>\n",
       "      <td>0.511628</td>\n",
       "      <td>10.209302</td>\n",
       "      <td>1.348837</td>\n",
       "      <td>0.906977</td>\n",
       "      <td>17.370835</td>\n",
       "    </tr>\n",
       "    <tr>\n",
       "      <th>male</th>\n",
       "      <td>450.705882</td>\n",
       "      <td>0.215686</td>\n",
       "      <td>11.223922</td>\n",
       "      <td>1.803922</td>\n",
       "      <td>0.882353</td>\n",
       "      <td>20.639055</td>\n",
       "    </tr>\n",
       "  </tbody>\n",
       "</table>\n",
       "</div>"
      ],
      "text/plain": [
       "                     PassengerId  Survived        Age     SibSp     Parch  \\\n",
       "Pclass Child Sex                                                            \n",
       "1      False female   461.493976  0.975904  37.500000  0.542169  0.385542   \n",
       "             male     452.880342  0.350427  42.901042  0.299145  0.222222   \n",
       "       True  female   527.454545  0.909091  15.181818  0.636364  1.000000   \n",
       "             male     522.400000  0.800000  10.184000  0.600000  1.600000   \n",
       "2      False female   454.435484  0.903226  33.158333  0.483871  0.483871   \n",
       "             male     441.462366  0.086022  34.750000  0.311828  0.139785   \n",
       "       True  female   392.928571  1.000000   9.714286  0.500000  1.142857   \n",
       "             male     488.266667  0.600000   8.288667  0.533333  0.733333   \n",
       "3      False female   394.673267  0.495050  30.161017  0.702970  0.752475   \n",
       "             male     456.344595  0.121622  30.366337  0.273649  0.111486   \n",
       "       True  female   411.604651  0.511628  10.209302  1.348837  0.906977   \n",
       "             male     450.705882  0.215686  11.223922  1.803922  0.882353   \n",
       "\n",
       "                           Fare  \n",
       "Pclass Child Sex                 \n",
       "1      False female  103.296486  \n",
       "             male     65.199965  \n",
       "       True  female  127.474245  \n",
       "             male    114.638320  \n",
       "2      False female   21.271439  \n",
       "             male     18.713530  \n",
       "       True  female   25.064286  \n",
       "             male     26.116947  \n",
       "3      False female   15.585769  \n",
       "             male     11.287144  \n",
       "       True  female   17.370835  \n",
       "             male     20.639055  "
      ]
     },
     "execution_count": 16,
     "metadata": {},
     "output_type": "execute_result"
    }
   ],
   "source": [
    "data.groupby(['Pclass', 'Child', 'Sex']).mean()"
   ]
  },
  {
   "cell_type": "code",
   "execution_count": 17,
   "metadata": {
    "collapsed": false
   },
   "outputs": [
    {
     "data": {
      "text/html": [
       "<div>\n",
       "<table border=\"1\" class=\"dataframe\">\n",
       "  <thead>\n",
       "    <tr style=\"text-align: right;\">\n",
       "      <th></th>\n",
       "      <th>PassengerId</th>\n",
       "      <th>Survived</th>\n",
       "      <th>Pclass</th>\n",
       "      <th>Age</th>\n",
       "      <th>Parch</th>\n",
       "      <th>Fare</th>\n",
       "      <th>Child</th>\n",
       "    </tr>\n",
       "    <tr>\n",
       "      <th>SibSp</th>\n",
       "      <th></th>\n",
       "      <th></th>\n",
       "      <th></th>\n",
       "      <th></th>\n",
       "      <th></th>\n",
       "      <th></th>\n",
       "      <th></th>\n",
       "    </tr>\n",
       "  </thead>\n",
       "  <tbody>\n",
       "    <tr>\n",
       "      <th>0</th>\n",
       "      <td>455.370066</td>\n",
       "      <td>0.345395</td>\n",
       "      <td>2.351974</td>\n",
       "      <td>31.397558</td>\n",
       "      <td>0.185855</td>\n",
       "      <td>25.692028</td>\n",
       "      <td>0.100329</td>\n",
       "    </tr>\n",
       "    <tr>\n",
       "      <th>1</th>\n",
       "      <td>439.727273</td>\n",
       "      <td>0.535885</td>\n",
       "      <td>2.057416</td>\n",
       "      <td>30.089727</td>\n",
       "      <td>0.655502</td>\n",
       "      <td>44.147370</td>\n",
       "      <td>0.186603</td>\n",
       "    </tr>\n",
       "    <tr>\n",
       "      <th>2</th>\n",
       "      <td>412.428571</td>\n",
       "      <td>0.464286</td>\n",
       "      <td>2.357143</td>\n",
       "      <td>22.620000</td>\n",
       "      <td>0.642857</td>\n",
       "      <td>51.753718</td>\n",
       "      <td>0.321429</td>\n",
       "    </tr>\n",
       "    <tr>\n",
       "      <th>3</th>\n",
       "      <td>321.562500</td>\n",
       "      <td>0.250000</td>\n",
       "      <td>2.562500</td>\n",
       "      <td>13.916667</td>\n",
       "      <td>1.312500</td>\n",
       "      <td>68.908862</td>\n",
       "      <td>0.437500</td>\n",
       "    </tr>\n",
       "    <tr>\n",
       "      <th>4</th>\n",
       "      <td>381.611111</td>\n",
       "      <td>0.166667</td>\n",
       "      <td>3.000000</td>\n",
       "      <td>7.055556</td>\n",
       "      <td>1.500000</td>\n",
       "      <td>31.855556</td>\n",
       "      <td>1.000000</td>\n",
       "    </tr>\n",
       "    <tr>\n",
       "      <th>5</th>\n",
       "      <td>336.800000</td>\n",
       "      <td>0.000000</td>\n",
       "      <td>3.000000</td>\n",
       "      <td>10.200000</td>\n",
       "      <td>2.000000</td>\n",
       "      <td>46.900000</td>\n",
       "      <td>1.000000</td>\n",
       "    </tr>\n",
       "    <tr>\n",
       "      <th>8</th>\n",
       "      <td>481.714286</td>\n",
       "      <td>0.000000</td>\n",
       "      <td>3.000000</td>\n",
       "      <td>NaN</td>\n",
       "      <td>2.000000</td>\n",
       "      <td>69.550000</td>\n",
       "      <td>0.000000</td>\n",
       "    </tr>\n",
       "  </tbody>\n",
       "</table>\n",
       "</div>"
      ],
      "text/plain": [
       "       PassengerId  Survived    Pclass        Age     Parch       Fare  \\\n",
       "SibSp                                                                    \n",
       "0       455.370066  0.345395  2.351974  31.397558  0.185855  25.692028   \n",
       "1       439.727273  0.535885  2.057416  30.089727  0.655502  44.147370   \n",
       "2       412.428571  0.464286  2.357143  22.620000  0.642857  51.753718   \n",
       "3       321.562500  0.250000  2.562500  13.916667  1.312500  68.908862   \n",
       "4       381.611111  0.166667  3.000000   7.055556  1.500000  31.855556   \n",
       "5       336.800000  0.000000  3.000000  10.200000  2.000000  46.900000   \n",
       "8       481.714286  0.000000  3.000000        NaN  2.000000  69.550000   \n",
       "\n",
       "          Child  \n",
       "SibSp            \n",
       "0      0.100329  \n",
       "1      0.186603  \n",
       "2      0.321429  \n",
       "3      0.437500  \n",
       "4      1.000000  \n",
       "5      1.000000  \n",
       "8      0.000000  "
      ]
     },
     "execution_count": 17,
     "metadata": {},
     "output_type": "execute_result"
    }
   ],
   "source": [
    "data.groupby('SibSp').mean()"
   ]
  },
  {
   "cell_type": "code",
   "execution_count": 42,
   "metadata": {
    "collapsed": false
   },
   "outputs": [
    {
     "name": "stdout",
     "output_type": "stream",
     "text": [
      "mean survival with family: 0.505649717514\n",
      "mean survival without family: 0.303538175047\n"
     ]
    }
   ],
   "source": [
    "print \"mean survival with family:\", data.Survived[(data.Parch > 0) | (data.SibSp > 0)].mean()\n",
    "print \"mean survival without family:\", data.Survived[(data.Parch == 0) & (data.SibSp == 0)].mean()"
   ]
  },
  {
   "cell_type": "markdown",
   "metadata": {},
   "source": [
    "Having family aboard seems to help your chances of survival.  I wonder if that's correlated with class or something?"
   ]
  },
  {
   "cell_type": "code",
   "execution_count": 43,
   "metadata": {
    "collapsed": false
   },
   "outputs": [
    {
     "name": "stdout",
     "output_type": "stream",
     "text": [
      "mean class with family: 2.16949152542\n",
      "mean class without family: 2.40037243948\n"
     ]
    }
   ],
   "source": [
    "print \"mean class with family:\", data.Pclass[(data.Parch > 0) | (data.SibSp > 0)].mean()\n",
    "print \"mean class without family:\", data.Pclass[(data.Parch == 0) & (data.SibSp == 0)].mean()"
   ]
  },
  {
   "cell_type": "code",
   "execution_count": null,
   "metadata": {
    "collapsed": false
   },
   "outputs": [],
   "source": []
  },
  {
   "cell_type": "code",
   "execution_count": null,
   "metadata": {
    "collapsed": true
   },
   "outputs": [],
   "source": []
  }
 ],
 "metadata": {
  "kernelspec": {
   "display_name": "Python 2",
   "language": "python",
   "name": "python2"
  },
  "language_info": {
   "codemirror_mode": {
    "name": "ipython",
    "version": 2
   },
   "file_extension": ".py",
   "mimetype": "text/x-python",
   "name": "python",
   "nbconvert_exporter": "python",
   "pygments_lexer": "ipython2",
   "version": "2.7.11"
  }
 },
 "nbformat": 4,
 "nbformat_minor": 0
}
